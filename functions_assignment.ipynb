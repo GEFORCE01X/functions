{
  "nbformat": 4,
  "nbformat_minor": 0,
  "metadata": {
    "colab": {
      "provenance": []
    },
    "kernelspec": {
      "name": "python3",
      "display_name": "Python 3"
    },
    "language_info": {
      "name": "python"
    }
  },
  "cells": [
    {
      "cell_type": "markdown",
      "source": [
        "#FUNCTIONS\n"
      ],
      "metadata": {
        "id": "_mJNZzyO_T4D"
      }
    },
    {
      "cell_type": "markdown",
      "source": [
        "Q.1 What is the difference between a function and a method in PyTHON?\n",
        "->  This problem involves iterating through a list of numbers. For each number, we use the modulo operator (%) to check if it's an even number (i.e., number % 2 == 0). If it is, we add it to a running total.\n",
        "\n",
        "Key Concept: Iteration, Conditional Statements, Modulo Operator."
      ],
      "metadata": {
        "id": "F7kztxh3ATYG"
      }
    },
    {
      "cell_type": "code",
      "source": [
        "def sum_of_even_numbers(numbers):\n",
        "    total_even = 0\n",
        "    for num in numbers:\n",
        "        if num % 2 == 0:\n",
        "            total_even += num\n",
        "    return total_even\n",
        "\n",
        "# Example:\n",
        "my_list = [1, 2, 3, 4, 5, 6, 7, 8, 9, 10]\n",
        "print(f\"1. Sum of even numbers in {my_list}: {sum_of_even_numbers(my_list)}\")"
      ],
      "metadata": {
        "colab": {
          "base_uri": "https://localhost:8080/"
        },
        "id": "dXXeZKxRAxPF",
        "outputId": "3fb16005-67b9-4e79-976f-2128a1a73e77"
      },
      "execution_count": null,
      "outputs": [
        {
          "output_type": "stream",
          "name": "stdout",
          "text": [
            "1. Sum of even numbers in [1, 2, 3, 4, 5, 6, 7, 8, 9, 10]: 30\n"
          ]
        }
      ]
    },
    {
      "cell_type": "markdown",
      "source": [
        "Q.2 Create a Python function that accepts a string and returns the reverse of that string.\n",
        "-> Python strings can be easily reversed using slicing. The slice [::-1] creates a reversed copy of the string without modifying the original. The first : means \"start from the beginning,\" the second : means \"go to the end,\" and -1 means \"step backwards one character at a time.\"\n",
        "\n",
        "Key Concept: String Slicing."
      ],
      "metadata": {
        "id": "9ONfImLNBAXe"
      }
    },
    {
      "cell_type": "code",
      "source": [
        "def reverse_string(s):\n",
        "    return s[::-1]\n",
        "\n",
        "# Example:\n",
        "my_string = \"Hello Python\"\n",
        "print(f\"2. Reverse of '{my_string}': '{reverse_string(my_string)}'\")M"
      ],
      "metadata": {
        "colab": {
          "base_uri": "https://localhost:8080/"
        },
        "id": "WPCLKhQUBSAy",
        "outputId": "ad551f41-d556-4729-a4cc-b679fd8178fa"
      },
      "execution_count": null,
      "outputs": [
        {
          "output_type": "stream",
          "name": "stdout",
          "text": [
            "2. Reverse of 'Hello Python': 'nohtyP olleH'\n"
          ]
        }
      ]
    },
    {
      "cell_type": "markdown",
      "source": [
        "Q.3 Implement a Python function that takes a list of integers and returns a new list containing the squares of each number.\n",
        "-> To find the square of each number, we iterate through the list. For each number, we multiply it by itself (or use the exponentiation operator ** 2). The results are collected into a new list. This is a common operation suitable for list comprehensions or map().\n",
        "\n",
        "Key Concept: Iteration, Exponentiation, List Construction."
      ],
      "metadata": {
        "id": "uv3HemBUBb2E"
      }
    },
    {
      "cell_type": "code",
      "source": [
        "def square_list_elements(numbers):\n",
        "    squared_numbers = []\n",
        "    for num in numbers:\n",
        "        squared_numbers.append(num ** 2)\n",
        "    return squared_numbers\n",
        "\n",
        "# Example:\n",
        "my_list = [1, 2, 3, 4, 5]\n",
        "print(f\"3. Squares of elements in {my_list}: {square_list_elements(my_list)}\")"
      ],
      "metadata": {
        "colab": {
          "base_uri": "https://localhost:8080/"
        },
        "id": "ZinuX4-JBnny",
        "outputId": "6594d0e5-da7f-4c24-a762-4b799a56df5c"
      },
      "execution_count": null,
      "outputs": [
        {
          "output_type": "stream",
          "name": "stdout",
          "text": [
            "3. Squares of elements in [1, 2, 3, 4, 5]: [1, 4, 9, 16, 25]\n"
          ]
        }
      ]
    },
    {
      "cell_type": "markdown",
      "source": [
        "Q.4 Write a Python function that checks if a given number is prime or not (from 1 to 200).\n",
        "-> A prime number is a natural number greater than 1 that has no positive divisors other than 1 and itself. To check for primality, we iterate from 2 up to the square root of the number. If any number in this range divides the given number evenly, it's not prime. Numbers less than or equal to 1 are not prime.\n",
        "\n",
        "Key Concept: Primality Test, Divisibility, Square Root Optimization."
      ],
      "metadata": {
        "id": "spUysqNHBzqH"
      }
    },
    {
      "cell_type": "code",
      "source": [
        "def is_prime(num):\n",
        "    if num <= 1:\n",
        "        return False\n",
        "    for i in range(2, int(num**0.5) + 1):\n",
        "        if num % i == 0:\n",
        "            return False\n",
        "    return True\n",
        "\n",
        "# Example:\n",
        "number_to_check = 17\n",
        "print(f\"4. Is {number_to_check} prime? {is_prime(number_to_check)}\")\n",
        "number_to_check = 10\n",
        "print(f\"   Is {number_to_check} prime? {is_prime(number_to_check)}\")"
      ],
      "metadata": {
        "colab": {
          "base_uri": "https://localhost:8080/"
        },
        "id": "RQzL2yUxB9Tg",
        "outputId": "f3b9dc49-73ac-482f-a198-df7b33475ab1"
      },
      "execution_count": null,
      "outputs": [
        {
          "output_type": "stream",
          "name": "stdout",
          "text": [
            "4. Is 17 prime? True\n",
            "   Is 10 prime? False\n"
          ]
        }
      ]
    },
    {
      "cell_type": "markdown",
      "source": [
        "Q.5 Create an iterator class in Python that generates the Fibonacci sequence up to the specified number of terms.\n",
        "-> An iterator in Python is an object that allows you to traverse through a sequence of data. To create a custom iterator, you need to implement two special methods:\n",
        "\n",
        "__iter__(self): This method returns the iterator object itself.\n",
        "\n",
        "__next__(self): This method returns the next item from the sequence. If there are no more items, it should raise StopIteration.\n",
        "\n",
        "The Fibonacci sequence starts with 0 and 1, and each subsequent number is the sum of the two preceding ones (e.g., 0, 1, 1, 2, 3, 5...).\n",
        "\n",
        "Key Concept: Iterators, __iter__, __next__, StopIteration, Fibonacci Sequence."
      ],
      "metadata": {
        "id": "di06P52CCIkc"
      }
    },
    {
      "cell_type": "code",
      "source": [
        "class FibonacciIterator:\n",
        "    def __init__(self, terms):\n",
        "        self.terms = terms\n",
        "        self.count = 0\n",
        "        self.a = 0\n",
        "        self.b = 1\n",
        "\n",
        "    def __iter__(self):\n",
        "        return self\n",
        "\n",
        "    def __next__(self):\n",
        "        if self.count < self.terms:\n",
        "            if self.count == 0:\n",
        "                self.count += 1\n",
        "                return self.a\n",
        "            elif self.count == 1:\n",
        "                self.count += 1\n",
        "                return self.b\n",
        "            else:\n",
        "                next_fib = self.a + self.b\n",
        "                self.a = self.b\n",
        "                self.b = next_fib\n",
        "                self.count += 1\n",
        "                return next_fib\n",
        "        else:\n",
        "            raise StopIteration\n",
        "\n",
        "# Example:\n",
        "print(\"5. Fibonacci sequence (5 terms):\")\n",
        "fib_gen = FibonacciIterator(5)\n",
        "for num in fib_gen:\n",
        "    print(num, end=\" \")\n",
        "print()"
      ],
      "metadata": {
        "colab": {
          "base_uri": "https://localhost:8080/"
        },
        "id": "yLG16zQMCWmW",
        "outputId": "d9f5ae20-d35b-488b-c7ac-1ea9f1a6a827"
      },
      "execution_count": null,
      "outputs": [
        {
          "output_type": "stream",
          "name": "stdout",
          "text": [
            "5. Fibonacci sequence (5 terms):\n",
            "0 1 1 2 3 \n"
          ]
        }
      ]
    },
    {
      "cell_type": "markdown",
      "source": [
        "Q.6 Write a generator function in Python that yields the powers of 2 up to a given exponent.\n",
        "->  A generator function is a special type of function that returns an iterator. It uses the yield keyword instead of return. When yield is encountered, the function's state is saved, and the yielded value is returned. The next time the generator is called, it resumes from where it left off. This is memory-efficient for large sequences.\n",
        "\n",
        "Key Concept: Generators, yield keyword, Iterators, Memory Efficiency."
      ],
      "metadata": {
        "id": "F1NueMlCCdIF"
      }
    },
    {
      "cell_type": "code",
      "source": [
        "def powers_of_two_generator(exponent):\n",
        "    for i in range(exponent + 1):\n",
        "        yield 2 ** i\n",
        "\n",
        "# Example:\n",
        "print(\"6. Powers of 2 up to exponent 4:\")\n",
        "for power in powers_of_two_generator(4):\n",
        "    print(power, end=\" \")\n",
        "print()"
      ],
      "metadata": {
        "colab": {
          "base_uri": "https://localhost:8080/"
        },
        "id": "kYmpi-o6Cr3Y",
        "outputId": "006dda60-01a2-4944-dd6f-4d658661f31e"
      },
      "execution_count": null,
      "outputs": [
        {
          "output_type": "stream",
          "name": "stdout",
          "text": [
            "6. Powers of 2 up to exponent 4:\n",
            "1 2 4 8 16 \n"
          ]
        }
      ]
    },
    {
      "cell_type": "markdown",
      "source": [
        "Q.7 Implement a generator function that reads a file line by line and yields each line as a string.\n",
        "-> This generator demonstrates how to read a file efficiently, especially large ones, without loading the entire content into memory at once. By yielding one line at a time, it processes data in chunks. The with open(...) statement ensures the file is properly closed even if errors occur.\n",
        "\n",
        "Key Concept: File I/O, Generators (yield), Resource Management (with statement)."
      ],
      "metadata": {
        "id": "PtufHDwjCx2P"
      }
    },
    {
      "cell_type": "code",
      "source": [
        "def read_file_line_by_line(filepath):\n",
        "    try:\n",
        "        with open(filepath, 'r') as file:\n",
        "            for line in file:\n",
        "                yield line.strip() # .strip() removes leading/trailing whitespace including newline chars\n",
        "    except FileNotFoundError:\n",
        "        print(f\"Error: File '{filepath}' not found.\")\n",
        "\n",
        "# Example:\n",
        "# Create a dummy file for the example\n",
        "with open(\"my_file.txt\", \"w\") as f:\n",
        "    f.write(\"First line of text.\\n\")\n",
        "    f.write(\"Second line here.\\n\")\n",
        "    f.write(\"And a third line.\")\n",
        "\n",
        "print(\"7. Reading 'my_file.txt' line by line:\")\n",
        "for line in read_file_line_by_line(\"my_file.txt\"):\n",
        "    print(line)"
      ],
      "metadata": {
        "colab": {
          "base_uri": "https://localhost:8080/"
        },
        "id": "m0zPhXLvDBPI",
        "outputId": "1ab9008e-55c0-4624-aeee-e5088d238d78"
      },
      "execution_count": null,
      "outputs": [
        {
          "output_type": "stream",
          "name": "stdout",
          "text": [
            "7. Reading 'my_file.txt' line by line:\n",
            "First line of text.\n",
            "Second line here.\n",
            "And a third line.\n"
          ]
        }
      ]
    },
    {
      "cell_type": "markdown",
      "source": [
        "Q.8 Use a lambda function in Python to sort a list of tuples based on the second element of each tuple.\n",
        "-> A lambda function (or anonymous function) is a small, single-expression function that doesn't require a def statement. They are often used as arguments to higher-order functions like sorted(), map(), or filter(). The key argument in sorted() specifies a function to be called on each list element prior to making comparisons; here, lambda item: item[1] tells sorted() to use the second element of each tuple for sorting.\n",
        "\n",
        "Key Concept: Lambda Functions, sorted() function, Higher-Order Functions, Tuple Indexing."
      ],
      "metadata": {
        "id": "UEVJ1WPDDJZP"
      }
    },
    {
      "cell_type": "code",
      "source": [
        "my_tuples = [('apple', 3), ('banana', 1), ('cherry', 2), ('date', 4)]\n",
        "\n",
        "# Example:\n",
        "sorted_tuples = sorted(my_tuples, key=lambda item: item[1])\n",
        "print(f\"8. Original list of tuples: {my_tuples}\")\n",
        "print(f\"   Sorted by second element: {sorted_tuples}\")"
      ],
      "metadata": {
        "colab": {
          "base_uri": "https://localhost:8080/"
        },
        "id": "Ynlnc1YODT1c",
        "outputId": "15ca751a-dfb2-467c-e417-f4eb57c9beb2"
      },
      "execution_count": null,
      "outputs": [
        {
          "output_type": "stream",
          "name": "stdout",
          "text": [
            "8. Original list of tuples: [('apple', 3), ('banana', 1), ('cherry', 2), ('date', 4)]\n",
            "   Sorted by second element: [('banana', 1), ('cherry', 2), ('apple', 3), ('date', 4)]\n"
          ]
        }
      ]
    },
    {
      "cell_type": "markdown",
      "source": [
        "Q.9 Write a Python program that uses map() to convert a list of temperatures from Celsius to Fahrenheit.\n",
        "-> The map() function applies a given function to each item of an iterable (like a list) and returns an iterator of the results. It's a concise way to perform the same operation on all elements. The formula for converting Celsius to Fahrenheit is (C×9/5)+32.\n",
        "\n",
        "Key Concept: map() function, Functional Programming, Temperature Conversion Formula.\n",
        "\n"
      ],
      "metadata": {
        "id": "G4uMKLCkDenL"
      }
    },
    {
      "cell_type": "code",
      "source": [
        "def celsius_to_fahrenheit(celsius):\n",
        "    return (celsius * 9/5) + 32\n",
        "\n",
        "celsius_temps = [0, 25, 100, -10]\n",
        "\n",
        "# Example:\n",
        "fahrenheit_temps = list(map(celsius_to_fahrenheit, celsius_temps))\n",
        "print(f\"9. Celsius temperatures: {celsius_temps}\")\n",
        "print(f\"   Fahrenheit temperatures: {fahrenheit_temps}\")"
      ],
      "metadata": {
        "colab": {
          "base_uri": "https://localhost:8080/"
        },
        "id": "GT2HaYVtDl0Y",
        "outputId": "be841c74-b480-43a9-a8dc-e9bde8bad0f0"
      },
      "execution_count": null,
      "outputs": [
        {
          "output_type": "stream",
          "name": "stdout",
          "text": [
            "9. Celsius temperatures: [0, 25, 100, -10]\n",
            "   Fahrenheit temperatures: [32.0, 77.0, 212.0, 14.0]\n"
          ]
        }
      ]
    },
    {
      "cell_type": "markdown",
      "source": [
        "Q 10. Create a Python program that uses filter() to remove all the vowels from a given string.\n",
        "->  The filter() function constructs an iterator from elements of an iterable for which a function returns true. It \"filters out\" elements based on a condition. Here, a lambda function checks if a character is not in the set of vowels, effectively removing vowels from the string. \"\".join() is used to reassemble the filtered characters into a new string.\n",
        "\n",
        "Key Concept: filter() function, Lambda Functions, String Manipulation, Conditional Filtering.\n",
        "\n"
      ],
      "metadata": {
        "id": "a0u6j7BFDtS2"
      }
    },
    {
      "cell_type": "code",
      "source": [
        "def remove_vowels(s):\n",
        "    vowels = \"aeiouAEIOU\"\n",
        "    return \"\".join(filter(lambda char: char not in vowels, s))\n",
        "\n",
        "my_string = \"Programming is Fun\"\n",
        "\n",
        "# Example:\n",
        "string_without_vowels = remove_vowels(my_string)\n",
        "print(f\"10. Original string: '{my_string}'\")\n",
        "print(f\"    String without vowels: '{string_without_vowels}'\")m"
      ],
      "metadata": {
        "colab": {
          "base_uri": "https://localhost:8080/"
        },
        "id": "k3le22_FD5ZB",
        "outputId": "a4a815b8-44bb-4771-8494-229e626e18da"
      },
      "execution_count": null,
      "outputs": [
        {
          "output_type": "stream",
          "name": "stdout",
          "text": [
            "10. Original string: 'Programming is Fun'\n",
            "    String without vowels: 'Prgrmmng s Fn'\n"
          ]
        }
      ]
    },
    {
      "cell_type": "markdown",
      "source": [
        "#PRACTICAL QUESTIONS"
      ],
      "metadata": {
        "id": "EybWLAqAgiYp"
      }
    },
    {
      "cell_type": "markdown",
      "source": [
        "Q.1 Write a Python function that takes a list of numbers as input and returns the sum of all even numbers in the list.\n"
      ],
      "metadata": {
        "id": "PajHE7aCgqfb"
      }
    },
    {
      "cell_type": "code",
      "source": [
        "def sum_even_numbers(numbers):\n",
        "  \"\"\"\n",
        "  Calculates the sum of all even numbers in a list.\n",
        "\n",
        "  Args:\n",
        "    numbers: A list of integers.\n",
        "\n",
        "  Returns:\n",
        "    The sum of all even numbers in the list.\n",
        "  \"\"\"\n",
        "  total_even_sum = 0\n",
        "  for number in numbers:\n",
        "    # Check if the number is even\n",
        "    if number % 2 == 0:\n",
        "      total_even_sum += number\n",
        "  return total_even_sum"
      ],
      "metadata": {
        "id": "VoHshk1cJGJ1"
      },
      "execution_count": 1,
      "outputs": []
    },
    {
      "cell_type": "markdown",
      "source": [
        "Q.2. Create a Python function that accepts a string and returns the reverse of that string."
      ],
      "metadata": {
        "id": "iysboCM4g9eK"
      }
    },
    {
      "cell_type": "code",
      "source": [
        "def reverse_string(input_string):\n",
        "  \"\"\"\n",
        "  Reverses a given string.\n",
        "\n",
        "  Args:\n",
        "    input_string: The string to be reversed.\n",
        "\n",
        "  Returns:\n",
        "    The reversed string.\n",
        "  \"\"\"\n",
        "  return input_string[::-1]"
      ],
      "metadata": {
        "id": "PvF4LmsvhDZI"
      },
      "execution_count": 2,
      "outputs": []
    },
    {
      "cell_type": "markdown",
      "source": [
        "Q.3. Implement a Python function that takes a list of integers and returns a new list containing the squares of each number."
      ],
      "metadata": {
        "id": "m6zHLb6NhRxn"
      }
    },
    {
      "cell_type": "code",
      "source": [
        "def square_numbers(numbers):\n",
        "  \"\"\"\n",
        "  Takes a list of integers and returns a new list containing the squares of each number.\n",
        "\n",
        "  Args:\n",
        "    numbers: A list of integers.\n",
        "\n",
        "  Returns:\n",
        "    A new list with the square of each number from the input list.\n",
        "  \"\"\"\n",
        "  squared_list = []\n",
        "  for number in numbers:\n",
        "    squared_list.append(number ** 2) # Calculate the square of the number\n",
        "  return squared_list"
      ],
      "metadata": {
        "id": "XcbYkDrZhWY-"
      },
      "execution_count": 3,
      "outputs": []
    },
    {
      "cell_type": "markdown",
      "source": [
        "Q.4. Write a Python function that checks if a given number is prime or not from 1 to 200."
      ],
      "metadata": {
        "id": "p_Jck2THhrrx"
      }
    },
    {
      "cell_type": "code",
      "source": [
        "def is_prime(number):\n",
        "  \"\"\"\n",
        "  Checks if a given number is prime.\n",
        "\n",
        "  A prime number is a natural number greater than 1 that has no positive\n",
        "  divisors other than 1 and itself.\n",
        "\n",
        "  Args:\n",
        "    number: An integer.\n",
        "\n",
        "  Returns:\n",
        "    True if the number is prime, False otherwise.\n",
        "  \"\"\"\n",
        "  if number <= 1:\n",
        "    return False # Numbers less than or equal to 1 are not prime\n",
        "  if number == 2:\n",
        "    return True  # 2 is the only even prime number\n",
        "  if number % 2 == 0:\n",
        "    return False # Other even numbers are not prime\n",
        "\n",
        "  # Check for divisibility from 3 up to the square root of the number,\n",
        "  # only considering odd numbers.\n",
        "  # We only need to check up to the square root because if a number 'n' has a divisor\n",
        "  # greater than its square root, it must also have a divisor smaller than its square root.\n",
        "  i = 3\n",
        "  while i * i <= number:\n",
        "    if number % i == 0:\n",
        "      return False\n",
        "    i += 2 # Increment by 2 to check only odd numbers\n",
        "  return True"
      ],
      "metadata": {
        "id": "YZSf9MMahvqh"
      },
      "execution_count": null,
      "outputs": []
    },
    {
      "cell_type": "markdown",
      "source": [
        "Q. 5 Create an iterator class in Python that generates the Fibonacci sequence up to a specified number of terms."
      ],
      "metadata": {
        "id": "Y5v38FPsh326"
      }
    },
    {
      "cell_type": "code",
      "source": [
        "class FibonacciIterator:\n",
        "  \"\"\"\n",
        "  An iterator class that generates the Fibonacci sequence up to a specified number of terms.\n",
        "  The Fibonacci sequence is a series of numbers where each number is the sum of the two preceding ones,\n",
        "  usually starting with 0 and 1. (e.g., 0, 1, 1, 2, 3, 5, 8, ...)\n",
        "  \"\"\"\n",
        "\n",
        "  def __init__(self, max_terms):\n",
        "    \"\"\"\n",
        "    Initializes the FibonacciIterator.\n",
        "\n",
        "    Args:\n",
        "      max_terms: The maximum number of Fibonacci terms to generate.\n",
        "                 Must be a non-negative integer.\n",
        "    \"\"\"\n",
        "    if not isinstance(max_terms, int) or max_terms < 0:\n",
        "      raise ValueError(\"max_terms must be a non-negative integer.\")\n",
        "    self.max_terms = max_terms\n",
        "    self.current_term = 0  # Counter for the number of terms generated\n",
        "    self.a = 0             # First number in the sequence\n",
        "    self.b = 1             # Second number in the sequence\n",
        "\n",
        "  def __iter__(self):\n",
        "    \"\"\"\n",
        "    Returns the iterator object itself.\n",
        "    This method is required for an object to be an iterator.\n",
        "    \"\"\"\n",
        "    return self\n",
        "\n",
        "  def __next__(self):\n",
        "    \"\"\"\n",
        "    Generates the next Fibonacci number.\n",
        "\n",
        "    Returns:\n",
        "      The next Fibonacci number in the sequence.\n",
        "\n",
        "    Raises:\n",
        "      StopIteration: When the specified number of terms (max_terms) has been generated.\n",
        "    \"\"\"\n",
        "    if self.current_term >= self.max_terms:\n",
        "      raise StopIteration\n",
        "\n",
        "    if self.current_term == 0:\n",
        "      self.current_term += 1\n",
        "      return self.a\n",
        "    elif self.current_term == 1:\n",
        "      self.current_term += 1\n",
        "      return self.b\n",
        "    else:\n",
        "      next_fib = self.a + self.b\n",
        "      self.a = self.b\n",
        "      self.b = next_fib\n",
        "      self.current_term += 1\n",
        "      return next_fib\n"
      ],
      "metadata": {
        "id": "GINy53ToiBID"
      },
      "execution_count": 4,
      "outputs": []
    },
    {
      "cell_type": "markdown",
      "source": [
        "Q.6. Write a generator function in Python that yields the powers of 2 up to a given exponent."
      ],
      "metadata": {
        "id": "mYRnqOH_iPwt"
      }
    },
    {
      "cell_type": "code",
      "source": [
        "def powers_of_two(max_exponent):\n",
        "  \"\"\"\n",
        "  A generator function that yields powers of 2 up to a specified maximum exponent.\n",
        "\n",
        "  Args:\n",
        "    max_exponent: The maximum exponent (non-negative integer) to which 2 will be raised.\n",
        "\n",
        "  Yields:\n",
        "    The next power of 2.\n",
        "  \"\"\"\n",
        "  if not isinstance(max_exponent, int) or max_exponent < 0:\n",
        "    raise ValueError(\"max_exponent must be a non-negative integer.\")\n",
        "\n",
        "  for i in range(max_exponent + 1):\n",
        "    yield 2 ** i\n",
        "\n",
        "# Example Usage:\n",
        "\n",
        "print(\"Powers of 2 up to exponent 5:\")\n",
        "for power in powers_of_two(5):\n",
        "  print(power, end=\" \")\n",
        "print(\"\\n\")\n",
        "\n",
        "print(\"Powers of 2 up to exponent 0:\")\n",
        "for power in powers_of_two(0):\n",
        "  print(power, end=\" \")\n",
        "print(\"\\n\")\n",
        "\n",
        "print(\"Powers of 2 up to exponent 8:\")\n",
        "for power in powers_of_two(8):\n",
        "  print(power, end=\" \")\n",
        "print(\"\\n\")\n",
        "\n",
        "# Using next() directly with the generator\n",
        "print(\"Using next() directly for powers of 2 up to exponent 3:\")\n",
        "gen_manual = powers_of_two(3)\n",
        "try:\n",
        "  print(next(gen_manual))\n",
        "  print(next(gen_manual))\n",
        "  print(next(gen_manual))\n",
        "  print(next(gen_manual))\n",
        "  print(next(gen_manual)) # This will raise StopIteration\n",
        "except StopIteration:\n",
        "  print(\"End of sequence.\")\n",
        "print(\"\\n\")"
      ],
      "metadata": {
        "id": "4GGwOMiyikAY"
      },
      "execution_count": null,
      "outputs": []
    },
    {
      "cell_type": "markdown",
      "source": [
        "Q.7  Implement a generator function that reads a file line by line and yields each line as a string."
      ],
      "metadata": {
        "id": "aAEAehNjilDg"
      }
    },
    {
      "cell_type": "code",
      "source": [
        "import os\n",
        "\n",
        "def read_file_line_by_line(filepath):\n",
        "  \"\"\"\n",
        "  A generator function that reads a file line by line and yields each line as a string.\n",
        "\n",
        "  Args:\n",
        "    filepath: The path to the file to be read.\n",
        "\n",
        "  Yields:\n",
        "    Each line from the file as a string, including the newline character if present.\n",
        "\n",
        "  Raises:\n",
        "    FileNotFoundError: If the specified file does not exist.\n",
        "    IOError: For other input/output errors during file reading.\n",
        "  \"\"\"\n",
        "  if not os.path.exists(filepath):\n",
        "    raise FileNotFoundError(f\"The file '{filepath}' does not exist.\")\n",
        "\n",
        "  try:\n",
        "    with open(filepath, 'r', encoding='utf-8') as file:\n",
        "      for line in file:\n",
        "        yield line\n",
        "  except IOError as e:\n",
        "    print(f\"An I/O error occurred while reading the file: {e}\")\n",
        "    raise # Re-raise the exception after printing\n"
      ],
      "metadata": {
        "id": "Ez20Qp2li4Ah"
      },
      "execution_count": null,
      "outputs": []
    },
    {
      "cell_type": "markdown",
      "source": [
        "Q.8  Use a lambda function in Python to sort a list of tuples based on the second element of each tuple."
      ],
      "metadata": {
        "id": "IebLROAIi8j4"
      }
    },
    {
      "cell_type": "code",
      "source": [
        "def sort_tuples_by_second_element(list_of_tuples):\n",
        "  \"\"\"\n",
        "  Sorts a list of tuples based on the second element of each tuple using a lambda function.\n",
        "\n",
        "  Args:\n",
        "    list_of_tuples: A list where each element is a tuple (e.g., [(a, b), (c, d)]).\n",
        "\n",
        "  Returns:\n",
        "    A new list containing the sorted tuples.\n",
        "  \"\"\"\n",
        "  # The sorted() function takes a 'key' argument, which is a function\n",
        "  # that will be called on each element of the list prior to making comparisons.\n",
        "  # A lambda function `lambda item: item[1]` is used here to specify that\n",
        "  # the sorting should be based on the element at index 1 (the second element)\n",
        "  # of each tuple.\n",
        "  return sorted(list_of_tuples, key=lambda item: item[1])"
      ],
      "metadata": {
        "id": "NkThTceHjJPY"
      },
      "execution_count": null,
      "outputs": []
    },
    {
      "cell_type": "markdown",
      "source": [
        "Q. 9. Write a Python program that uses `map()` to convert a list of temperatures from Celsius to Fahrenheight."
      ],
      "metadata": {
        "id": "IEoaa25_jLRJ"
      }
    },
    {
      "cell_type": "code",
      "source": [
        "def celsius_to_fahrenheit_converter(celsius_temps):\n",
        "  \"\"\"\n",
        "  Converts a list of temperatures from Celsius to Fahrenheit using the map() function.\n",
        "\n",
        "  The formula for converting Celsius to Fahrenheit is:\n",
        "  Fahrenheit = (Celsius * 9/5) + 32\n",
        "\n",
        "  Args:\n",
        "    celsius_temps: A list of temperatures in Celsius (integers or floats).\n",
        "\n",
        "  Returns:\n",
        "    A new list containing the temperatures converted to Fahrenheit.\n",
        "  \"\"\"\n",
        "  # Define a lambda function for the conversion formula.\n",
        "  # This lambda function will be applied to each item in the celsius_temps list by map().\n",
        "  celsius_to_fahrenheit_lambda = lambda celsius: (celsius * 9/5) + 32\n",
        "\n",
        "  # Use map() to apply the lambda function to each element in the celsius_temps list.\n",
        "  # map() returns an iterator, so we convert it to a list.\n",
        "  fahrenheit_temps = list(map(celsius_to_fahrenheit_lambda, celsius_temps))\n",
        "\n",
        "  return fahrenheit_temps\n"
      ],
      "metadata": {
        "id": "nMQL9xOKjbgi"
      },
      "execution_count": null,
      "outputs": []
    },
    {
      "cell_type": "markdown",
      "source": [
        "Q. 10. Create a Python program that uses `filter()` to remove all the vowels from a given string"
      ],
      "metadata": {
        "id": "LkhKvShnje_2"
      }
    },
    {
      "cell_type": "code",
      "source": [
        "def remove_vowels(input_string):\n",
        "  \"\"\"\n",
        "  Removes all vowels (a, e, i, o, u, case-insensitive) from a given string\n",
        "  using the filter() function.\n",
        "\n",
        "  Args:\n",
        "    input_string: The string from which vowels need to be removed.\n",
        "\n",
        "  Returns:\n",
        "    A new string with all vowels removed.\n",
        "  \"\"\"\n",
        "  vowels = \"aeiouAEIOU\"\n",
        "\n",
        "  # Define a lambda function that returns True if a character is NOT a vowel,\n",
        "  # and False if it is a vowel.\n",
        "  # This lambda function will be used by filter() to decide which characters to keep.\n",
        "  is_not_vowel = lambda char: char not in vowels\n",
        "\n",
        "  # Use filter() to apply the lambda function to each character in the input_string.\n",
        "  # filter() returns an iterator, so we join the filtered characters to form a new string.\n",
        "  filtered_characters = filter(is_not_vowel, input_string)\n",
        "\n",
        "  return \"\".join(filtered_characters)"
      ],
      "metadata": {
        "id": "Fk7XCm04jyg1"
      },
      "execution_count": null,
      "outputs": []
    },
    {
      "cell_type": "markdown",
      "source": [
        "Q.11 Imagine an accounting routine used in a book shop. It works on a list with sublists, which look like this:"
      ],
      "metadata": {
        "id": "pZgUWF0Rk45q"
      }
    },
    {
      "cell_type": "code",
      "source": [
        "def process_book_orders(orders_data):\n",
        "  \"\"\"\n",
        "  Processes a list of book order sublists to calculate order totals with a bonus.\n",
        "\n",
        "  Each input sublist is expected to be in the format:\n",
        "  [Order Number, Book Title and Author, Quantity, Price per Item]\n",
        "\n",
        "  The function returns a new list of 2-tuples, where each tuple contains:\n",
        "  (Order Number, Calculated Total Price)\n",
        "\n",
        "  The Calculated Total Price is:\n",
        "  (Quantity * Price per Item) + 10  if (Quantity * Price per Item) < 100\n",
        "  (Quantity * Price per Item)       otherwise\n",
        "\n",
        "  Args:\n",
        "    orders_data: A list of sublists, each representing a book order.\n",
        "\n",
        "  Returns:\n",
        "    A list of 2-tuples, each containing the order number and its calculated total price.\n",
        "  \"\"\"\n",
        "\n",
        "  # Use map() with a lambda function to process each order sublist.\n",
        "  # The lambda function takes one 'order' (which is a sublist) as input.\n",
        "  # It extracts the necessary components (order number, quantity, price per item),\n",
        "  # calculates the initial total, applies the conditional €10 bonus,\n",
        "  # and returns a tuple (order_number, final_total).\n",
        "  processed_orders = list(map(\n",
        "      lambda order: (\n",
        "          order[0],  # Order Number\n",
        "          (order[2] * order[3] + 10) if (order[2] * order[3]) < 100.00 else (order[2] * order[3])\n",
        "      ),\n",
        "      orders_data\n",
        "  ))\n",
        "  return processed_order"
      ],
      "metadata": {
        "id": "eTKWMt7wjzm1"
      },
      "execution_count": null,
      "outputs": []
    }
  ]
}